{
 "cells": [
  {
   "cell_type": "markdown",
   "id": "0185d21c",
   "metadata": {},
   "source": [
    "## Load data and first analysis"
   ]
  },
  {
   "cell_type": "code",
   "execution_count": null,
   "id": "dce9ee05",
   "metadata": {},
   "outputs": [],
   "source": [
    "import pandas as pd\n",
    "import seaborn as sns\n",
    "import matplotlib.pyplot as plt\n",
    "import numpy as np\n"
   ]
  },
  {
   "cell_type": "code",
   "execution_count": null,
   "id": "e621104c",
   "metadata": {},
   "outputs": [],
   "source": [
    "sns.set_theme(style=\"whitegrid\")\n",
    "plt.rcParams[\"figure.figsize\"] = (10, 5)\n"
   ]
  },
  {
   "cell_type": "code",
   "execution_count": null,
   "id": "287e506d",
   "metadata": {},
   "outputs": [],
   "source": [
    "#load the data\n",
    "df = pd.read_csv('../data/fintech_users.csv')\n"
   ]
  },
  {
   "cell_type": "code",
   "execution_count": 8,
   "id": "e7dddf95",
   "metadata": {},
   "outputs": [],
   "source": [
    "df = df.sample(frac=1, random_state=42).reset_index(drop=True)\n"
   ]
  },
  {
   "cell_type": "code",
   "execution_count": null,
   "id": "d40efea4",
   "metadata": {},
   "outputs": [
    {
     "name": "stdout",
     "output_type": "stream",
     "text": [
      "(7000, 20)\n",
      "Customer_ID                     object\n",
      "Age                              int64\n",
      "Location                        object\n",
      "Income_Level                    object\n",
      "Total_Transactions               int64\n",
      "Avg_Transaction_Value          float64\n",
      "Max_Transaction_Value          float64\n",
      "Min_Transaction_Value          float64\n",
      "Total_Spent                    float64\n",
      "Active_Days                      int64\n",
      "Last_Transaction_Days_Ago        int64\n",
      "Loyalty_Points_Earned            int64\n",
      "Referral_Count                   int64\n",
      "Cashback_Received              float64\n",
      "App_Usage_Frequency             object\n",
      "Preferred_Payment_Method        object\n",
      "Support_Tickets_Raised           int64\n",
      "Issue_Resolution_Time          float64\n",
      "Customer_Satisfaction_Score      int64\n",
      "LTV                            float64\n",
      "dtype: object\n",
      "  Customer_ID  Age  Location Income_Level  Total_Transactions  \\\n",
      "0   cust_0000   54     Urban          Low                 192   \n",
      "1   cust_0001   67  Suburban         High                 979   \n",
      "2   cust_0002   44     Urban         High                 329   \n",
      "3   cust_0003   30     Rural         High                  71   \n",
      "4   cust_0004   58     Urban       Middle                 878   \n",
      "\n",
      "   Avg_Transaction_Value  Max_Transaction_Value  Min_Transaction_Value  \\\n",
      "0           16736.384023           60216.834510            6525.814861   \n",
      "1           14536.734683           48350.100272            2186.742245   \n",
      "2            7061.372800           32521.157187            2743.406808   \n",
      "3           16426.876453           17827.896720            4360.784994   \n",
      "4           10800.092660           17497.634534            4532.872520   \n",
      "\n",
      "    Total_Spent  Active_Days  Last_Transaction_Days_Ago  \\\n",
      "0  3.213386e+06          140                        209   \n",
      "1  1.423146e+07          229                        240   \n",
      "2  2.323192e+06           73                         21   \n",
      "3  1.166308e+06          299                        285   \n",
      "4  9.482481e+06          236                        329   \n",
      "\n",
      "   Loyalty_Points_Earned  Referral_Count  Cashback_Received  \\\n",
      "0                   2114              25        2224.012140   \n",
      "1                   2960              20        4026.823518   \n",
      "2                   3170               0        1441.011395   \n",
      "3                   4756              35        4365.855580   \n",
      "4                   1992              18        4161.523827   \n",
      "\n",
      "  App_Usage_Frequency Preferred_Payment_Method  Support_Tickets_Raised  \\\n",
      "0             Monthly               Debit Card                       3   \n",
      "1             Monthly                      UPI                      17   \n",
      "2             Monthly               Debit Card                      11   \n",
      "3              Weekly           Wallet Balance                       6   \n",
      "4               Daily                      UPI                      18   \n",
      "\n",
      "   Issue_Resolution_Time  Customer_Satisfaction_Score           LTV  \n",
      "0              61.568590                            1  3.279546e+05  \n",
      "1              60.392889                            8  1.437053e+06  \n",
      "2              45.305579                            4  2.419387e+05  \n",
      "3              22.030191                            1  1.284599e+05  \n",
      "4              20.634723                            5  9.569514e+05  \n"
     ]
    }
   ],
   "source": [
    "print(df.shape)\n",
    "print(df.dtypes)\n"
   ]
  },
  {
   "cell_type": "code",
   "execution_count": 4,
   "id": "c80ab6c2",
   "metadata": {},
   "outputs": [
    {
     "name": "stdout",
     "output_type": "stream",
     "text": [
      "  Customer_ID  Age  Location Income_Level  Total_Transactions  \\\n",
      "0   cust_0000   54     Urban          Low                 192   \n",
      "1   cust_0001   67  Suburban         High                 979   \n",
      "2   cust_0002   44     Urban         High                 329   \n",
      "3   cust_0003   30     Rural         High                  71   \n",
      "4   cust_0004   58     Urban       Middle                 878   \n",
      "\n",
      "   Avg_Transaction_Value  Max_Transaction_Value  Min_Transaction_Value  \\\n",
      "0           16736.384023           60216.834510            6525.814861   \n",
      "1           14536.734683           48350.100272            2186.742245   \n",
      "2            7061.372800           32521.157187            2743.406808   \n",
      "3           16426.876453           17827.896720            4360.784994   \n",
      "4           10800.092660           17497.634534            4532.872520   \n",
      "\n",
      "    Total_Spent  Active_Days  Last_Transaction_Days_Ago  \\\n",
      "0  3.213386e+06          140                        209   \n",
      "1  1.423146e+07          229                        240   \n",
      "2  2.323192e+06           73                         21   \n",
      "3  1.166308e+06          299                        285   \n",
      "4  9.482481e+06          236                        329   \n",
      "\n",
      "   Loyalty_Points_Earned  Referral_Count  Cashback_Received  \\\n",
      "0                   2114              25        2224.012140   \n",
      "1                   2960              20        4026.823518   \n",
      "2                   3170               0        1441.011395   \n",
      "3                   4756              35        4365.855580   \n",
      "4                   1992              18        4161.523827   \n",
      "\n",
      "  App_Usage_Frequency Preferred_Payment_Method  Support_Tickets_Raised  \\\n",
      "0             Monthly               Debit Card                       3   \n",
      "1             Monthly                      UPI                      17   \n",
      "2             Monthly               Debit Card                      11   \n",
      "3              Weekly           Wallet Balance                       6   \n",
      "4               Daily                      UPI                      18   \n",
      "\n",
      "   Issue_Resolution_Time  Customer_Satisfaction_Score           LTV  \n",
      "0              61.568590                            1  3.279546e+05  \n",
      "1              60.392889                            8  1.437053e+06  \n",
      "2              45.305579                            4  2.419387e+05  \n",
      "3              22.030191                            1  1.284599e+05  \n",
      "4              20.634723                            5  9.569514e+05  \n"
     ]
    }
   ],
   "source": [
    "print(df.head())\n"
   ]
  },
  {
   "cell_type": "code",
   "execution_count": 5,
   "id": "ccec52a0",
   "metadata": {},
   "outputs": [
    {
     "name": "stdout",
     "output_type": "stream",
     "text": [
      "Customer_ID                    0\n",
      "Age                            0\n",
      "Location                       0\n",
      "Income_Level                   0\n",
      "Total_Transactions             0\n",
      "Avg_Transaction_Value          0\n",
      "Max_Transaction_Value          0\n",
      "Min_Transaction_Value          0\n",
      "Total_Spent                    0\n",
      "Active_Days                    0\n",
      "Last_Transaction_Days_Ago      0\n",
      "Loyalty_Points_Earned          0\n",
      "Referral_Count                 0\n",
      "Cashback_Received              0\n",
      "App_Usage_Frequency            0\n",
      "Preferred_Payment_Method       0\n",
      "Support_Tickets_Raised         0\n",
      "Issue_Resolution_Time          0\n",
      "Customer_Satisfaction_Score    0\n",
      "LTV                            0\n",
      "dtype: int64\n"
     ]
    }
   ],
   "source": [
    "print(df.isnull().sum())\n"
   ]
  },
  {
   "cell_type": "code",
   "execution_count": 9,
   "id": "8373e967",
   "metadata": {},
   "outputs": [
    {
     "name": "stdout",
     "output_type": "stream",
     "text": [
      "\n",
      "--- Object columns ---\n",
      "Customer_ID                 7000\n",
      "Location                       3\n",
      "Income_Level                   3\n",
      "App_Usage_Frequency            3\n",
      "Preferred_Payment_Method       4\n",
      "dtype: int64\n"
     ]
    }
   ],
   "source": [
    "print(\"\\n--- Object columns ---\")\n",
    "print(df.select_dtypes(include='object').nunique())"
   ]
  },
  {
   "cell_type": "markdown",
   "id": "e28b9f3c",
   "metadata": {},
   "source": [
    "## Numeric value distribution"
   ]
  }
 ],
 "metadata": {
  "kernelspec": {
   "display_name": "Python 3",
   "language": "python",
   "name": "python3"
  },
  "language_info": {
   "codemirror_mode": {
    "name": "ipython",
    "version": 3
   },
   "file_extension": ".py",
   "mimetype": "text/x-python",
   "name": "python",
   "nbconvert_exporter": "python",
   "pygments_lexer": "ipython3",
   "version": "3.12.9"
  }
 },
 "nbformat": 4,
 "nbformat_minor": 5
}
